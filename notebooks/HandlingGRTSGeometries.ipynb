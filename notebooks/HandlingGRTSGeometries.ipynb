{
 "cells": [
  {
   "cell_type": "markdown",
   "metadata": {},
   "source": [
    "### Utilies for fetching, transforming and viewing GRTS cell geometries"
   ]
  },
  {
   "cell_type": "markdown",
   "metadata": {},
   "source": [
    "In many NABat related data management and processing workflows it is useful to have easy tools for working with \n",
    "the geometries of NABat GRTS cells.  Commonly used functions and data access routines can be found in nabatpy's grts_lookup module.\n",
    "\n",
    "#### These include\n",
    "* Get the bounds (w, s, e, n) of an individual GRTS cell.\n",
    "* Get a shapely geometry of a GRTS cell for geospatial manipulation/viewing\n",
    "* Check if a point(x,y) is contained in a GRTS ID\n",
    "* Transform (reproject) a GRTS geometry to another projections (WGS84, Albers, UTM, etc.)\n",
    "\n"
   ]
  },
  {
   "cell_type": "markdown",
   "metadata": {},
   "source": [
    "##### Import our spatial utilies module"
   ]
  },
  {
   "cell_type": "code",
   "execution_count": 1,
   "metadata": {},
   "outputs": [],
   "source": [
    "import sys\n",
    "sys.path.append('..')\n",
    "\n",
    "from nabatpy import grts_lookup"
   ]
  },
  {
   "cell_type": "markdown",
   "metadata": {},
   "source": [
    "## Get the bounds of an individual GRTS cell.\n",
    "\n",
    "by default these coordinates are returned in a WGS84 projection"
   ]
  },
  {
   "cell_type": "code",
   "execution_count": 2,
   "metadata": {},
   "outputs": [
    {
     "name": "stdout",
     "output_type": "stream",
     "text": [
      "-118.61424140897152 37.45133490849996 -118.53011714761556 37.55905466466322\n"
     ]
    }
   ],
   "source": [
    "w, s, e, n = grts_lookup.get_grts_geometry(grts_id=55478, sample_frame='Conus', return_type='bounds')\n",
    "print(w, s, e, n)"
   ]
  },
  {
   "cell_type": "markdown",
   "metadata": {},
   "source": [
    "### If you want to do simple geometric manipulations, like calculating area or centroid, you might want these coordinates in the 'native' projection of the sample frame (Alber's equal area)"
   ]
  },
  {
   "cell_type": "code",
   "execution_count": 3,
   "metadata": {},
   "outputs": [
    {
     "name": "stdout",
     "output_type": "stream",
     "text": [
      "-1963000 1836000 -1953000 1846000\n"
     ]
    }
   ],
   "source": [
    "w, s, e, n = grts_lookup.get_grts_geometry(grts_id=55478, sample_frame='Conus', return_type='bounds', return_proj=None)\n",
    "print(w, s, e, n)"
   ]
  },
  {
   "cell_type": "markdown",
   "metadata": {},
   "source": [
    "### If you need a projection that's not WGS84 or the native Albers Equal Area, you can pass any pyproj object to the return_proj parameter"
   ]
  },
  {
   "cell_type": "code",
   "execution_count": 4,
   "metadata": {},
   "outputs": [
    {
     "name": "stdout",
     "output_type": "stream",
     "text": [
      "-707056.8016685701 4233092.24589123 -697800.0447009779 4244026.458539516\n"
     ]
    }
   ],
   "source": [
    "from pyproj import Proj\n",
    "\n",
    "epsg_utm_13n = '26913'\n",
    "utm_13n = Proj(f\"+init=EPSG:{epsg_utm_13n}\")\n",
    "\n",
    "w, s, e, n = grts_lookup.get_grts_geometry(grts_id=55478, sample_frame='Conus', return_type='bounds', return_proj=utm_13n)\n",
    "print(w, s, e, n)"
   ]
  },
  {
   "cell_type": "markdown",
   "metadata": {},
   "source": [
    "### Check if a point is contained in a cell"
   ]
  },
  {
   "cell_type": "code",
   "execution_count": 5,
   "metadata": {},
   "outputs": [],
   "source": [
    "wgs_centroid = grts_lookup.get_grts_geometry(grts_id=55478, return_proj='wgs84').centroid"
   ]
  },
  {
   "cell_type": "code",
   "execution_count": 6,
   "metadata": {},
   "outputs": [
    {
     "data": {
      "image/svg+xml": [
       "<svg xmlns=\"http://www.w3.org/2000/svg\" xmlns:xlink=\"http://www.w3.org/1999/xlink\" width=\"300\" height=\"300\" viewBox=\"-1963400.0 1835600.0 10800.0 10800.0\" preserveAspectRatio=\"xMinYMin meet\"><g transform=\"matrix(1,0,0,-1,0,3682000.0)\"><path fill-rule=\"evenodd\" fill=\"#66cc99\" stroke=\"#555555\" stroke-width=\"72.0\" opacity=\"0.6\" d=\"M -1963000.0,1836000.0 L -1963000.0,1846000.0 L -1953000.0,1846000.0 L -1953000.0,1836000.0 L -1963000.0,1836000.0 z\" /></g></svg>"
      ],
      "text/plain": [
       "<shapely.geometry.polygon.Polygon at 0x1d869159860>"
      ]
     },
     "execution_count": 6,
     "metadata": {},
     "output_type": "execute_result"
    }
   ],
   "source": [
    "geom = grts_lookup.get_grts_geometry(grts_id=55478, return_proj=None)\n",
    "geom"
   ]
  },
  {
   "cell_type": "code",
   "execution_count": 7,
   "metadata": {},
   "outputs": [
    {
     "data": {
      "text/plain": [
       "True"
      ]
     },
     "execution_count": 7,
     "metadata": {},
     "output_type": "execute_result"
    }
   ],
   "source": [
    "from shapely.geometry import Point\n",
    "\n",
    "wgs_centroid = grts_lookup.get_grts_geometry(grts_id=55478, return_proj='wgs84').centroid\n",
    "long, lat = wgs_centroid.x, wgs_centroid.y\n",
    "\n",
    "x, y = grts_lookup.WGS_to_framecoords(long=long, lat=lat)\n",
    "\n",
    "point = Point(x, y)\n",
    "\n",
    "geom.contains(point)"
   ]
  },
  {
   "cell_type": "code",
   "execution_count": 8,
   "metadata": {},
   "outputs": [
    {
     "data": {
      "text/plain": [
       "False"
      ]
     },
     "execution_count": 8,
     "metadata": {},
     "output_type": "execute_result"
    }
   ],
   "source": [
    "point = point = Point(x+10000, y)\n",
    "\n",
    "geom.contains(point)"
   ]
  },
  {
   "cell_type": "markdown",
   "metadata": {},
   "source": [
    "### View geometry on a Folium Map\n",
    "\n",
    "#### Note the nuance on the handling of projections and geometries.  The bounds on the WGS84 points cannot be used as a geometry as these 'bounds' are a bounding box around a rotated rectangle."
   ]
  },
  {
   "cell_type": "code",
   "execution_count": 9,
   "metadata": {},
   "outputs": [
    {
     "data": {
      "text/html": [
       "<div style=\"width:100%;\"><div style=\"position:relative;width:100%;height:0;padding-bottom:60%;\"><iframe src=\"data:text/html;charset=utf-8;base64,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\" style=\"position:absolute;width:100%;height:100%;left:0;top:0;border:none !important;\" allowfullscreen webkitallowfullscreen mozallowfullscreen></iframe></div></div>"
      ],
      "text/plain": [
       "<folium.folium.Map at 0x1d86917c550>"
      ]
     },
     "execution_count": 9,
     "metadata": {},
     "output_type": "execute_result"
    }
   ],
   "source": [
    "import folium\n",
    "\n",
    "\n",
    "centroid_x, centroid_y = grts_lookup.framecoords_to_WGS(geom.centroid.x, geom.centroid.y)\n",
    "\n",
    "m = folium.Map(\n",
    "    location=[centroid_y, centroid_x],\n",
    "    zoom_start=12,\n",
    "    tiles='Stamen Terrain'\n",
    ")\n",
    "\n",
    "points = list(zip(*geom.exterior.coords.xy))\n",
    "points = [grts_lookup.framecoords_to_WGS(*p) for p in points]\n",
    "points = [t[::-1] for t in points]\n",
    "poly = folium.Polygon(points)\n",
    "m.add_child(poly)\n",
    "\n",
    "centroid_marker = folium.Marker((lat, long), popup='In the GRTS cell')\n",
    "centroid_marker.add_to(m)\n",
    "\n",
    "out_long, out_lat = grts_lookup.framecoords_to_WGS(x+10000, y)\n",
    "centroid_marker = folium.Marker((out_lat, out_long), popup='Out the GRTS cell', icon=folium.Icon(color='red', icon='info-sign'))\n",
    "centroid_marker.add_to(m)\n",
    "\n",
    "m\n"
   ]
  },
  {
   "cell_type": "code",
   "execution_count": null,
   "metadata": {},
   "outputs": [],
   "source": []
  }
 ],
 "metadata": {
  "kernelspec": {
   "display_name": "Python 3",
   "language": "python",
   "name": "python3"
  },
  "language_info": {
   "codemirror_mode": {
    "name": "ipython",
    "version": 3
   },
   "file_extension": ".py",
   "mimetype": "text/x-python",
   "name": "python",
   "nbconvert_exporter": "python",
   "pygments_lexer": "ipython3",
   "version": "3.6.6"
  }
 },
 "nbformat": 4,
 "nbformat_minor": 2
}
