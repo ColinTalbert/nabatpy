{
 "cells": [
  {
   "cell_type": "code",
   "execution_count": null,
   "metadata": {},
   "outputs": [],
   "source": [
    "%load_ext autoreload\n",
    "%autoreload 2"
   ]
  },
  {
   "cell_type": "markdown",
   "metadata": {},
   "source": [
    "### Verify the integrity of our copy of the source files\n",
    "\n",
    "#### Turns out moving large amounts of files between hard drives and network drives has the potential to lose files\n",
    "\n",
    "#### We need to ensure that the files we're starting match what we were given\n",
    "\n",
    "Currently this is just a file count match between the individual site folders.  This should be extended to check files size or checksums on individual files, which would make this even slower."
   ]
  },
  {
   "cell_type": "code",
   "execution_count": null,
   "metadata": {},
   "outputs": [],
   "source": [
    "from pathlib import Path\n",
    "\n",
    "import nabatpy"
   ]
  },
  {
   "cell_type": "code",
   "execution_count": null,
   "metadata": {},
   "outputs": [],
   "source": [
    "# This is the hard drive given to us by the PI.  We should keep this as an untouched backup in case anything goes wrong, and as a redundant archive copy.\n",
    "from_dname = r\"M:\\NABat\\CNHP_NABat\\acoustic\"\n",
    "from_d = Path(from_dname)\n",
    "\n",
    "# This is the working location we're storing our copy of the source files.\n",
    "to_dname = r\"Z:\\TSH\\DD274_NABat\\CNHP_data_processing\\Source\\CO_NABat\\CO 2017 acoustic\"\n",
    "to_d = Path(to_dname)"
   ]
  },
  {
   "cell_type": "markdown",
   "metadata": {},
   "source": [
    "#### Loop through each of the subdirectories in our source file, count the files in it, count the files in the cooresponding folder in our copy, print that folder name if the numbers don't match"
   ]
  },
  {
   "cell_type": "code",
   "execution_count": null,
   "metadata": {},
   "outputs": [],
   "source": [
    "for sub_d in [f for f in from_d.iterdir() if f.is_dir()]:\n",
    "    cor_d = to_d.joinpath(sub_d.name)\n",
    "    file_count_from = len(list(sub_d.glob('**/*')))\n",
    "    file_count_to = len(list(cor_d.glob('**/*')))\n",
    "    if file_count_from != file_count_to:\n",
    "        print(sub_d.name, file_count_from, file_count_to)"
   ]
  },
  {
   "cell_type": "code",
   "execution_count": null,
   "metadata": {},
   "outputs": [],
   "source": []
  }
 ],
 "metadata": {
  "kernelspec": {
   "display_name": "Python 3",
   "language": "python",
   "name": "python3"
  },
  "language_info": {
   "codemirror_mode": {
    "name": "ipython",
    "version": 3
   },
   "file_extension": ".py",
   "mimetype": "text/x-python",
   "name": "python",
   "nbconvert_exporter": "python",
   "pygments_lexer": "ipython3",
   "version": "3.6.6"
  }
 },
 "nbformat": 4,
 "nbformat_minor": 2
}
